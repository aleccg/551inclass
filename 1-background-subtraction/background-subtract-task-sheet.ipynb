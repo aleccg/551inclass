{
 "cells": [
  {
   "cell_type": "markdown",
   "metadata": {},
   "source": [
    "## EECS 453/551\n",
    "# Video background subtraction using SVD\n",
    "\n",
    "In this exercise we will discover how the SVD can magically estimate the background in a video even when there is a lot of noise and missing data.\n",
    "___"
   ]
  },
  {
   "cell_type": "markdown",
   "metadata": {},
   "source": [
    "## Before we begin\n",
    "\n",
    "Run the following code cell by clicking it and either\n",
    "\n",
    "* choosing Cell -> Run in the toolbar\n",
    "* Pressing Ctrl+Enter\n",
    "\n",
    "This will install and load the Julia packages we need for today."
   ]
  },
  {
   "cell_type": "code",
   "execution_count": null,
   "metadata": {
    "collapsed": false,
    "scrolled": true
   },
   "outputs": [],
   "source": [
    "# install packages if not already present:\n",
    "Pkg.add(\"MAT\")      # for loading .mat files\n",
    "Pkg.add(\"Interact\") # for interacting with plots\n",
    "Pkg.add(\"Images\")\n",
    "\n",
    "# load packages:\n",
    "using MAT, Interact, Reactive, Images #, PyPlot\n",
    "import Images.imresize\n",
    "\n",
    "# choose between lobby and xylophone video footage:\n",
    "lobby = permutedims(matread(\"lobby.mat\")[\"MovMat\"],[2;1;3]);\n",
    "xylophone = permutedims(matread(\"xylophone.mat\")[\"MovMat\"],[2;1;3]);\n",
    "scale!(1/maximum(xylophone),xylophone);"
   ]
  },
  {
   "cell_type": "markdown",
   "metadata": {},
   "source": [
    "You may wish to take a few minutes to familiarize yourself with the notebook interface. Choose Help -> User Interface Tour for a brief introduction.\n",
    "\n",
    "In Julia, you can type ? followed by any object (variable, function, module) to get its description. Try typing `?MAT` into a new code cell and running it."
   ]
  },
  {
   "cell_type": "markdown",
   "metadata": {},
   "source": [
    "## Objective\n",
    "\n",
    "The objective of this exercise is to take as an input the video you have just seen and return as an output the background (i.e. without the people moving for the lobby video)."
   ]
  },
  {
   "cell_type": "markdown",
   "metadata": {},
   "source": [
    "### Task 1\n",
    "\n",
    "Find in the function below the portion where the variable `backgroundVec` is computed. Note how the SVD is used to compute it. Examine how the `residualVec` variable is computed and note that\n",
    "\n",
    "    footageVec = backgroundVec + residualVec\n",
    "\n",
    "Hence if we successfully are able to estimate the background, `residualVec` should contain:\n",
    "\n",
    "1. People moving around\n",
    "2. Nothing (empty)\n",
    "\n",
    "**Do you expect 1. or 2. to be true? Why?**\n",
    "\n",
    "Now **run the cell** to add `process()` to your workspace."
   ]
  },
  {
   "cell_type": "code",
   "execution_count": null,
   "metadata": {
    "collapsed": false
   },
   "outputs": [],
   "source": [
    "\"\"\"\n",
    "    process(footage) -> background,residual\n",
    "Use SVD to separate input footage into background (static objects)\n",
    "and residual (fleeting objects).\n",
    "\"\"\"\n",
    "function process(footage)\n",
    "    (m,n,numFrames) = size(footage)\n",
    "    \n",
    "    # Each movie frame is a 128x160 array.\n",
    "    # Reshape each frame into a single column vector\n",
    "    # to ease manipulation:\n",
    "    footageVec = reshape(footage,m*n,numFrames)\n",
    "    \n",
    "    ###################################\n",
    "    # Process using SVD\n",
    "    r = 1 # rank of \"background\" is 1\n",
    "\n",
    "    # U,S,V will contain first r components of SVD:\n",
    "    (U,S,V) = svds(footageVec,nsv=r)\n",
    "    \n",
    "    # take first r components as background\n",
    "    backgroundVec = (U*diagm(S))*V'\n",
    "    \n",
    "    # calculate residual\n",
    "    residualVec = footageVec - backgroundVec    \n",
    "    ###################################\n",
    "\n",
    "    # reshape background and residual into footage dimensions\n",
    "    background = reshape(backgroundVec,size(footage))\n",
    "    residual = reshape(residualVec,size(footage))\n",
    "    \n",
    "    return background,residual\n",
    "end"
   ]
  },
  {
   "cell_type": "markdown",
   "metadata": {},
   "source": [
    "### Task 2\n",
    "\n",
    "Run the following code cell. You should see a slider above a plot with two subplots. On the left is the original footage; on the right is the background as estimated by SVD.\n",
    "\n",
    "**Is it working?**"
   ]
  },
  {
   "cell_type": "code",
   "execution_count": null,
   "metadata": {
    "collapsed": false
   },
   "outputs": [],
   "source": [
    "footage = lobby\n",
    "\n",
    "# perform SVD-based background subtraction:\n",
    "background,residual = process(footage)\n",
    "\n",
    "### display results\n",
    "m,n,numFrames = size(footage)\n",
    "ws = ones(5,n,numFrames) # whitespace\n",
    "img = grayim([footage;ws;background])\n",
    "\n",
    "@manipulate for s = slider(1.0:0.2:3.0, label=\"Scale factor\"),\n",
    "    frame = slider(1:numFrames, label=\"Frame\")\n",
    "    \n",
    "    # select frame\n",
    "    i = sliceim(img,\"z\",frame)\n",
    "    \n",
    "    # scale\n",
    "    imresize(i,tuple([round(Int64,s*dim) for dim in size(i)]...))\n",
    "    \n",
    "end"
   ]
  },
  {
   "cell_type": "markdown",
   "metadata": {},
   "source": [
    "### Task 3: adding noise\n",
    "\n",
    "The movie you just processed using SVD was relatively noise-free. Let us start adding noise and removing entries and see how well SVD does.\n",
    "\n",
    "Study the function `addnoise()` in the following cell. **What is the code doing mathematically?** Now **run the cell** to add the function to your workspace.\n",
    "\n",
    "Enter a value of 0.1 for $ \\sigma $ in the next cell down, then run it.\n",
    "\n",
    "**Do you see the movie get noisier? Is the SVD able to extract the background?**\n",
    "\n",
    "* Now repeat for $ \\sigma = 0.5 $, $ \\sigma = 1 $ and $ \\sigma = 2 $. **How does the SVD do?**"
   ]
  },
  {
   "cell_type": "code",
   "execution_count": null,
   "metadata": {
    "collapsed": false
   },
   "outputs": [],
   "source": [
    "\"\"\"\n",
    "Add noise to footage.\n",
    "\n",
    "σ is noise standard deviation.\n",
    "\n",
    "(type symbol with \"\\sigma<TAB>\")\n",
    "\"\"\"\n",
    "function addnoise(footage,σ)\n",
    "    # Interpret this mathematically!\n",
    "    footage = (footage + σ*rand(size(footage)))\n",
    "    return footage\n",
    "end   "
   ]
  },
  {
   "cell_type": "code",
   "execution_count": null,
   "metadata": {
    "collapsed": false,
    "scrolled": true
   },
   "outputs": [],
   "source": [
    "footage = lobby\n",
    "\n",
    "############################\n",
    "σ =  # Enter your value here\n",
    "\n",
    "# Add noise:\n",
    "footage = addnoise(footage,σ)\n",
    "############################\n",
    "\n",
    "# perform background subtraction on noisy footage:\n",
    "background,residual = process(footage)\n",
    "\n",
    "### display results:\n",
    "m,n,numFrames = size(footage)\n",
    "ws = ones(5,n,numFrames) # whitespace\n",
    "img = grayim([footage;ws;background])\n",
    "@manipulate for s = slider(1.0:0.2:3.0, label=\"Scale image\"),\n",
    "    frame = slider(1:numFrames, label=\"Frame\")\n",
    "    \n",
    "    i = sliceim(img,\"z\",frame)\n",
    "    imresize(i,tuple([round(Int64,s*dim) for dim in size(i)]...))\n",
    "end"
   ]
  },
  {
   "cell_type": "markdown",
   "metadata": {},
   "source": [
    "### Task 4: removing entries\n",
    "\n",
    "Now we will corrupt the data by randomly removing a portion of the entries.\n",
    "\n",
    "Study `corrupt()` in the cell below. **What is it doing to the input footage?** Now **run the cell** to add `corrupt()` to your workspace.\n",
    "\n",
    "Enter a value of 0.9 for `p` in the next cell down, then run it.\n",
    "\n",
    "**Does the movie have missing entries? Is the SVD successfully separating the background?**\n",
    "\n",
    "Now repeat for `p = 0.75`, `p = 0.5`, `p = 0.25`, `p = 0.1`. **Do you see the movie have more blank entries? Is the SVD still working?**"
   ]
  },
  {
   "cell_type": "code",
   "execution_count": null,
   "metadata": {
    "collapsed": false
   },
   "outputs": [],
   "source": [
    "\"\"\"\n",
    "Corrupt footage by removing entries.\n",
    "\n",
    "Each entry is removed with probability `p`.\n",
    "\"\"\"\n",
    "function corrupt(footage,p)\n",
    "    if p < 0.0 || p > 1.0\n",
    "        error(\"p must be in [0,1]\")\n",
    "    end\n",
    "    # Interpret this mathematically!\n",
    "    # Type ?rand if you aren't sure what rand() does.\n",
    "    mask = rand(size(footage)) .< p\n",
    "\n",
    "    # Mask some entries\n",
    "    footage = footage.*mask\n",
    "    return footage\n",
    "end"
   ]
  },
  {
   "cell_type": "code",
   "execution_count": null,
   "metadata": {
    "collapsed": false,
    "scrolled": true
   },
   "outputs": [],
   "source": [
    "footage = lobby\n",
    "\n",
    "# Add noise:\n",
    "σ = 0.1\n",
    "footage = addnoise(footage,σ)\n",
    "\n",
    "############################\n",
    "p =  # Enter your value here\n",
    "\n",
    "# Delete entries\n",
    "footage = corrupt(footage,p)\n",
    "############################\n",
    "\n",
    "# Process footage using SVD\n",
    "background,res = process(footage)\n",
    "\n",
    "# Display\n",
    "m,n,numFrames = size(footage)\n",
    "ws = ones(5,n,numFrames) # whitespace\n",
    "img = grayim([footage;ws;background])\n",
    "@manipulate for s = slider(1.0:0.5:3.0, label=\"Scale factor\"),\n",
    "    frame = slider(1:numFrames, label=\"Frame\")\n",
    "    \n",
    "    i = sliceim(img,\"z\",frame)\n",
    "    imresize(i,tuple([round(Int64,s*dim) for dim in size(i)]...))\n",
    "end    "
   ]
  },
  {
   "cell_type": "markdown",
   "metadata": {},
   "source": [
    "The corrupted footage is on the left; the background (first component of SVD) is on the right."
   ]
  },
  {
   "cell_type": "markdown",
   "metadata": {},
   "source": [
    "## Task 5\n",
    "\n",
    "What if we considered the first two SVD components to be the background rather than just one? What happens as we change $\\sigma$ and p?\n",
    "\n",
    "The following method returns both rank-1 and rank-2 backgrounds and allows us to quickly change $\\sigma$ and p. **Run the cell** to add this method to your workspace."
   ]
  },
  {
   "cell_type": "code",
   "execution_count": null,
   "metadata": {
    "collapsed": false
   },
   "outputs": [],
   "source": [
    "\"\"\"\n",
    "    process(footage) -> background,residual\n",
    "Use SVD to separate input footage into background (static objects)\n",
    "and residual (fleeting objects).\n",
    "\"\"\"\n",
    "function process(footage,σ,p)\n",
    "    \n",
    "    (m,n,numFrames) = size(footage)\n",
    "    footage = addnoise(footage,σ) # Add noise:\n",
    "    footage = corrupt(footage,p) # Delete entries:\n",
    "    footageVec = reshape(footage,m*n,numFrames) # Reshape each frame into a column\n",
    "    \n",
    "    (U,S,V) = svds(footageVec,nsv=2) # Process using SVD\n",
    "    \n",
    "    backgroundVec = (U[:,1]*diagm(S)[1])*V[:,1]'# take first 1 components as background\n",
    "    backgroundVec2 = (U*diagm(S))*V'            # take first 2 components as background2\n",
    "    residualVec = footageVec - backgroundVec    # calculate residual\n",
    "    residualVec2 = footageVec - backgroundVec2  # calculate residual2\n",
    "    \n",
    "    # reshape footage dimensions\n",
    "    background  = reshape(backgroundVec,size(footage))\n",
    "    background2 = reshape(backgroundVec2,size(footage))\n",
    "    \n",
    "    return footage,background,background2\n",
    "end"
   ]
  },
  {
   "cell_type": "markdown",
   "metadata": {},
   "source": [
    "Now we can illustrate the difference between rank-1 and rank-2 background separation. **Run the following cell** to see footage on the left, rank-1 background in the middle, and rank-2 background on the right."
   ]
  },
  {
   "cell_type": "code",
   "execution_count": null,
   "metadata": {
    "collapsed": false,
    "scrolled": true
   },
   "outputs": [],
   "source": [
    "###########################\n",
    "# Enter your values here\n",
    "σ = \n",
    "p = \n",
    "footage = lobby # xylophone\n",
    "###########################\n",
    "\n",
    "# perform background subtraction\n",
    "fg,bg,bg2 = process(footage,σ,p)\n",
    "\n",
    "# display results\n",
    "m,n,numFrames = size(footage)\n",
    "ws = ones(5,n,numFrames) # whitespace\n",
    "img = grayim([fg;ws;bg;ws;bg2])\n",
    "@manipulate for s = slider(1.0:0.2:2.0, label=\"Scale factor\"),\n",
    "    frame = slider(1:numFrames, label=\"Frame\")\n",
    "\n",
    "    i = sliceim(img,\"z\",frame)\n",
    "    imresize(i,tuple([round(Int64,s*dim) for dim in size(i)]...))    \n",
    "end"
   ]
  },
  {
   "cell_type": "markdown",
   "metadata": {},
   "source": [
    "### Task 6\n",
    "\n",
    "In the cell above, change \n",
    "```julia\n",
    "footage = lobby\n",
    "```\n",
    "to \n",
    "```julia\n",
    "footage = xylophone\n",
    "```\n",
    "and run the cell again. **Does SVD-based processing still work?**"
   ]
  }
 ],
 "metadata": {
  "kernelspec": {
   "display_name": "Julia 0.4.0-dev",
   "language": "julia",
   "name": "julia-0.4"
  },
  "language_info": {
   "file_extension": ".jl",
   "mimetype": "application/julia",
   "name": "julia",
   "version": "0.4.0"
  }
 },
 "nbformat": 4,
 "nbformat_minor": 0
}
