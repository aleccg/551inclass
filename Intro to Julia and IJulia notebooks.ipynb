{
 "cells": [
  {
   "cell_type": "markdown",
   "metadata": {},
   "source": [
    "## Tour and quick check\n",
    "\n",
    "Take a quick tour of the notebook environment by clicking `Help -> User Interface Tour`.\n",
    "\n",
    "Now let's make sure your tools are working. Click on the following cell, then choose `Cell -> Run` or press `Ctrl+Enter`:"
   ]
  },
  {
   "cell_type": "code",
   "execution_count": null,
   "metadata": {
    "collapsed": false
   },
   "outputs": [],
   "source": [
    "sin(π/2)"
   ]
  },
  {
   "cell_type": "markdown",
   "metadata": {},
   "source": [
    "If you see `1.0` and no errors, then you just ran Julia code. Great! (This also proves you are not using a Python kernel.)"
   ]
  },
  {
   "cell_type": "markdown",
   "metadata": {},
   "source": [
    "## Get comfortable with the notebook\n",
    "\n",
    "**The notebook is a document that can incorporate dynamic content.** The notebook [is useful by itself][2], as a documentation or note-taking tool. But when you connect the document to a Julia kernel and terminal instance on a computer, the document can send any command to the computer and show any output (text or graphics). **The document and computer need not be in the same place -- only a channel for message passing is required.**\n",
    "\n",
    "A notebook is composed of cells.\n",
    "* There are two modes for editing notebooks:\n",
    "    * Command Mode for creating or deleting cells, saving or renaming the notebook, and other application-level functions\n",
    "    * Edit Mode for manipulating text in an individual cell\n",
    "* Create a cell by:\n",
    "    * Clicking `Insert -> Insert Cell`\n",
    "    * Pressing `a` or `b` in Command Mode\n",
    "    * Pressing `Alt+Enter` in Edit Mode\n",
    "* Delete a cell by:\n",
    "    * Clicking `Edit -> Delete Cell`\n",
    "    * Pressing `dd`\n",
    "* Execute a cell by:\n",
    "    * Clicking `Cell -> Run`\n",
    "    * Pressing `Ctrl+Enter`\n",
    "    \n",
    "You are currently reading a rendered Markdown cell; to edit this text, double-click on the cell or select it and press `Enter`. Re-render the cell by executing it.\n",
    "\n",
    "Other functions:\n",
    "* Undo the last text edit with `Ctrl+z` in Edit Mode\n",
    "* Undo the last cell manipulation with `z` in Command Mode\n",
    "* Save the notebook with `Ctrl+s` in either mode\n",
    "\n",
    "Though notebooks rely on your browser to work, they do not require an internet connection (unless your computer is running on a remote server!). The only online tool that is consistently used is MathJax (for math rendering), and it is easy to [install MathJax locally][1].\n",
    "\n",
    "### A note about naming\n",
    "Try not to let the nomenclature confuse you! Some people say \"IPython notebook\", and a few (mostly core developers) prefer to say \"Jupyter notebook\". We will use \"IJulia notebook\" to refer to a notebook connected to a Julia kernel.\n",
    "\n",
    "<!--In the past, notebooks always used the IPython interactive Python shell, so it made sense to call them IPython notebooks. Once people realized the technology generalizes to other languages easily, we started to see terms like \"IJulia notebook\". As the technology becomes increasingly language-agnostic, we will eventually need a name for the notebook itself, independent of any particular language. This is where the \"Jupyter\" name comes in.-->\n",
    "\n",
    "[1]: http://ipython.org/ipython-doc/dev/install/install.html#mathjax\n",
    "[2]: http://nbviewer.ipython.org/\n",
    "[3]: http://nbviewer.ipython.org/github/jakevdp/OpenVisConf2014/blob/master/Notebook.ipynb"
   ]
  },
  {
   "cell_type": "markdown",
   "metadata": {},
   "source": [
    "Notebooks are hardly fragile. If you try to close a notebook with unsaved changes, the browser will warn you. Try the following exercises:\n",
    "\n",
    ">**\\[Exercise\\]**: Close/open\n",
    "\n",
    ">1. Save the notebook\n",
    ">2. Copy the address\n",
    ">3. Close the tab\n",
    ">4. Paste the address into a new tab (or re-open the last closed tab with `Ctrl+Shift+T` on Chrome)\n",
    "\n",
    ">_The document is still there, and the Julia kernel is still. **Nothing is lost.**_"
   ]
  },
  {
   "cell_type": "markdown",
   "metadata": {},
   "source": [
    ">**\\[Exercise\\]**: Zoom\n",
    "\n",
    ">Try changing the magnification of the web page (`Ctrl+, Ctrl-` on Chrome).\n",
    "\n",
    ">_Text and math scale well (so do graphics if you use an SVG or PDF backend)._"
   ]
  },
  {
   "cell_type": "markdown",
   "metadata": {},
   "source": [
    ">**\\[Exercise\\]**: MathJax\n",
    ">1. Create a new cell.\n",
    ">2. Type an opening \\$, your favorite mathematical expression, and a closing \\$.\n",
    ">3. Run the cell to render the $\\LaTeX$ expression.\n",
    ">4. Right-click the rendered expression.\n",
    "\n",
    ">_You can extract $\\LaTeX$ from a rendered expression for quick pasting into a .tex document._"
   ]
  },
  {
   "cell_type": "markdown",
   "metadata": {},
   "source": [
    "$\\sin(\\pi/2)$"
   ]
  },
  {
   "cell_type": "markdown",
   "metadata": {},
   "source": [
    "## Navigating Julia\n",
    "\n",
    "Now that we've discussed the notebook, let's talk about Julia, the language that makes this an _IJulia_ notebook. \n",
    "\n",
    "We'll be learning by doing during this session, but there is a list of helpful resources for future exploration at the end of this notebook."
   ]
  },
  {
   "cell_type": "code",
   "execution_count": null,
   "metadata": {
    "collapsed": false
   },
   "outputs": [],
   "source": [
    "?print # How to get help for a Julia object"
   ]
  },
  {
   "cell_type": "markdown",
   "metadata": {},
   "source": [
    "## Plotting\n",
    "There are several Julia plotting packages. \n",
    "\n",
    "* [PyPlot.jl][4] is a Julia interface to Matplotlib, and should feel familiar to both MATLAB and Python users.\n",
    "* [Winston][3] and [Gadfly][1] are written entirely in Julia.  Winston is for general-purpose 2D plotting, and Gadfly concentrates on statistical graphics.\n",
    "* [Plotly supports Julia][2].\n",
    "\n",
    "[1]: https://github.com/dcjones/Gadfly.jl\n",
    "[2]: https://plot.ly/julia/\n",
    "[3]: https://github.com/nolta/Winston.jl\n",
    "[4]: https://github.com/stevengj/PyPlot.jl"
   ]
  },
  {
   "cell_type": "code",
   "execution_count": null,
   "metadata": {
    "collapsed": false
   },
   "outputs": [],
   "source": [
    "Pkg.add(\"PyPlot\") # download & install PyPlot\n",
    "using PyPlot      # load PyPlot into current workspace\n",
    "PyPlot.svg(true)  # tell PyPlot to render figures as SVGs"
   ]
  },
  {
   "cell_type": "code",
   "execution_count": null,
   "metadata": {
    "collapsed": false
   },
   "outputs": [],
   "source": [
    "# Example from PyPlot documentation:\n",
    "x = linspace(0,2*pi,1000)\n",
    "y = sin(3*x + 4*cos(2*x))\n",
    "plot(x, y,  color=\"red\", \n",
    "            linewidth=2.0,\n",
    "            linestyle=\"--\")\n",
    "title(\"A sinusoidally modulated sinusoid\")"
   ]
  },
  {
   "cell_type": "markdown",
   "metadata": {},
   "source": [
    "## Coming from MATLAB, you keep:\n",
    "* Simple matrix syntax\n",
    "* Semicolon for supressing output in notebook or REPL"
   ]
  },
  {
   "cell_type": "code",
   "execution_count": null,
   "metadata": {
    "collapsed": false
   },
   "outputs": [],
   "source": [
    "B = [1 2; 3 4];\n",
    "C = [5 6];\n",
    "[B; C]"
   ]
  },
  {
   "cell_type": "markdown",
   "metadata": {},
   "source": [
    "* Many commonly used functions in `Base` (default namespace, always available)"
   ]
  },
  {
   "cell_type": "code",
   "execution_count": null,
   "metadata": {
    "collapsed": false
   },
   "outputs": [],
   "source": [
    "A = rand(3, 2); # create random matrix\n",
    "\n",
    "U, S, V = svd(A); # singular value decomposition\n",
    "\n",
    "U*diagm(S)*V' ≈ A"
   ]
  },
  {
   "cell_type": "code",
   "execution_count": null,
   "metadata": {
    "collapsed": false
   },
   "outputs": [],
   "source": [
    "?sin"
   ]
  },
  {
   "cell_type": "code",
   "execution_count": null,
   "metadata": {
    "collapsed": false
   },
   "outputs": [],
   "source": [
    "?sind"
   ]
  },
  {
   "cell_type": "code",
   "execution_count": null,
   "metadata": {
    "collapsed": false
   },
   "outputs": [],
   "source": [
    "?randn"
   ]
  },
  {
   "cell_type": "code",
   "execution_count": null,
   "metadata": {
    "collapsed": false
   },
   "outputs": [],
   "source": [
    "t = 1:10;\n",
    "t[t.<5]"
   ]
  },
  {
   "cell_type": "markdown",
   "metadata": {},
   "source": [
    "* Ability to read and write `.mat` files"
   ]
  },
  {
   "cell_type": "code",
   "execution_count": null,
   "metadata": {
    "collapsed": false
   },
   "outputs": [],
   "source": [
    "Pkg.add(\"MAT\")\n",
    "using MAT"
   ]
  },
  {
   "cell_type": "code",
   "execution_count": null,
   "metadata": {
    "collapsed": false
   },
   "outputs": [],
   "source": [
    "matwrite(\"test.mat\", {\n",
    "    \"a1\" => sin(π/2),\n",
    "    \"a2\" => [1 2 3]\n",
    "})"
   ]
  },
  {
   "cell_type": "code",
   "execution_count": null,
   "metadata": {
    "collapsed": false
   },
   "outputs": [],
   "source": [
    "vars = matread(\"test.mat\")\n",
    "println(vars[\"a1\"])\n",
    "println(vars[\"a2\"])"
   ]
  },
  {
   "cell_type": "markdown",
   "metadata": {},
   "source": [
    "**Just remember:**\n",
    "* Index arrays with **square brackets instead of parentheses**.\n",
    "* Be aware of **types**."
   ]
  },
  {
   "cell_type": "code",
   "execution_count": null,
   "metadata": {
    "collapsed": false
   },
   "outputs": [],
   "source": [
    "println(\"1 is an $(typeof(1))\")\n",
    "println(\"1.0 is a $(typeof(1.0))\")"
   ]
  },
  {
   "cell_type": "markdown",
   "metadata": {},
   "source": [
    "## Coming from Python, you keep:\n",
    "* [Package system][pkgSys]\n",
    "\n",
    "[pkgSys]: http://pkg.julialang.org/"
   ]
  },
  {
   "cell_type": "code",
   "execution_count": null,
   "metadata": {
    "collapsed": false
   },
   "outputs": [],
   "source": [
    "Pkg.add(\"Calculus\")\n",
    "using Calculus\n",
    "derivative(sin, π/3)"
   ]
  },
  {
   "cell_type": "markdown",
   "metadata": {},
   "source": [
    "* [List comprehension][listComp]\n",
    "\n",
    "[listComp]: http://julia.readthedocs.org/en/latest/manual/arrays/#comprehensions"
   ]
  },
  {
   "cell_type": "markdown",
   "metadata": {},
   "source": [
    "```julia\n",
    "A = [ F(x,y,...) for x=rx, y=ry, ... ]\n",
    "```"
   ]
  },
  {
   "cell_type": "code",
   "execution_count": null,
   "metadata": {
    "collapsed": false
   },
   "outputs": [],
   "source": [
    "A = [(x, x^2, x + y*im) for x=1:3, y in [1 2]];\n",
    "print(A)"
   ]
  },
  {
   "cell_type": "markdown",
   "metadata": {},
   "source": [
    "* [Pretty much everything][1]: you can import Python modules using PyCall.jl.\n",
    "\n",
    "[1]: https://github.com/stevengj/PyCall.jl"
   ]
  },
  {
   "cell_type": "code",
   "execution_count": null,
   "metadata": {
    "collapsed": false
   },
   "outputs": [],
   "source": [
    "Pkg.add(\"PyCall\")\n",
    "using PyCall\n",
    "@pyimport numpy as np"
   ]
  },
  {
   "cell_type": "code",
   "execution_count": null,
   "metadata": {
    "collapsed": false
   },
   "outputs": [],
   "source": [
    "A = [0.5 -0.5;\n",
    "    -0.5 0.5] # Create array with Julia\n",
    "\n",
    "B = np.sign(A) # Pass array to NumPy function\n",
    "\n",
    "print(B) # Show result"
   ]
  },
  {
   "cell_type": "code",
   "execution_count": null,
   "metadata": {
    "collapsed": false
   },
   "outputs": [],
   "source": [
    "# No type confusion!\n",
    "print(\"Type of A:\\t\\tType of B: \\n\", typeof(A), '\\t', typeof(B))"
   ]
  },
  {
   "cell_type": "markdown",
   "metadata": {},
   "source": [
    "Of course, Julia has its own `sign()` -- this was just a demonstration of calling a Python function."
   ]
  },
  {
   "cell_type": "code",
   "execution_count": null,
   "metadata": {
    "collapsed": true
   },
   "outputs": [],
   "source": [
    "# another example: plotting a random walk\n",
    "@pyimport numpy.random as npr # Must import submodule\n",
    "C = npr.normal(0, 1, 1000) # Create array using NumPy function\n",
    "\n",
    "plot(cumsum(C)) # Using PyPlot.jl from earlier"
   ]
  },
  {
   "cell_type": "markdown",
   "metadata": {},
   "source": [
    "## Types, methods, and multiple dispatch\n",
    "\n",
    "\"[Julia programs are organized around multiple dispatch][1]\"\n",
    "\n",
    "Though you don't need to know much about Julia's multiple dispatch to use the language, there is a great deal of power and flexibility here. The `::` operator (\"is an instance of\") may be used to assert object types:\n",
    "\n",
    "[1]: http://julialang.org/"
   ]
  },
  {
   "cell_type": "code",
   "execution_count": null,
   "metadata": {
    "collapsed": false
   },
   "outputs": [],
   "source": [
    "#(1+2)::FloatingPoint\n",
    "(1+2)::Int"
   ]
  },
  {
   "cell_type": "markdown",
   "metadata": {},
   "source": [
    "In addition to concrete (and familiar) `Float` and `Int` types, Julia has [abstract types][1]:\n",
    "\n",
    "[1]: http://docs.julialang.org/en/release-0.3/manual/types/#abstract-types"
   ]
  },
  {
   "cell_type": "code",
   "execution_count": null,
   "metadata": {
    "collapsed": false
   },
   "outputs": [],
   "source": [
    "(1 + 1im)::Complex\n",
    "#1::Real"
   ]
  },
  {
   "cell_type": "code",
   "execution_count": null,
   "metadata": {
    "collapsed": true
   },
   "outputs": [],
   "source": [
    "(1 + 1im)::Complex\n",
    "1::Real"
   ]
  },
  {
   "cell_type": "markdown",
   "metadata": {},
   "source": [
    "The most important implication of Julia's type system is **multiple dispatch**:  functions take all arguments into consideration when determining which method to use. From [Wikipedia][1]:\n",
    "\n",
    "[1]: https://en.wikipedia.org/wiki/Dynamic_dispatch#Single_and_multiple_dispatch"
   ]
  },
  {
   "cell_type": "code",
   "execution_count": null,
   "metadata": {
    "collapsed": false
   },
   "outputs": [],
   "source": [
    "url = \"https://en.wikipedia.org/wiki/Dynamic_dispatch#Single_and_multiple_dispatch\"\n",
    "s = string(\"<iframe height='450' id='multDis' seamless='seamless' src='\",\n",
    "url,\"' width='550' scrolling='no'></iframe>\")\n",
    "display(\"text/html\", s)"
   ]
  },
  {
   "cell_type": "markdown",
   "metadata": {},
   "source": [
    "Let's look at Julia's `Complex()` function:"
   ]
  },
  {
   "cell_type": "code",
   "execution_count": null,
   "metadata": {
    "collapsed": false
   },
   "outputs": [],
   "source": [
    "?Complex"
   ]
  },
  {
   "cell_type": "markdown",
   "metadata": {},
   "source": [
    "Use `methods()` to see every combination of arguments a particular function can handle (in the notebook, you can also press `Tab` after a function's opening parenthesis):"
   ]
  },
  {
   "cell_type": "code",
   "execution_count": null,
   "metadata": {
    "collapsed": false
   },
   "outputs": [],
   "source": [
    "methods(methods) # meta alert!"
   ]
  },
  {
   "cell_type": "code",
   "execution_count": null,
   "metadata": {
    "collapsed": false
   },
   "outputs": [],
   "source": [
    "methods(Complex)"
   ]
  },
  {
   "cell_type": "markdown",
   "metadata": {},
   "source": [
    "Let's follow one of these links to see how Julia operates on complex numbers."
   ]
  },
  {
   "cell_type": "markdown",
   "metadata": {},
   "source": [
    "## A couple exercises\n",
    "\n",
    ">**\\[Exercise\\]**: Extending a function\n",
    "\n",
    ">1. Try applying `abs()` to a string. What happens?\n",
    ">2. Extend `abs()` so it returns the uppercase version of a string argument.\n",
    "\n",
    ">Hint: you must import a `Base` function before you can extend it (this prevents accidental mangling of basic functions). Use `import Base.abs` to do this."
   ]
  },
  {
   "cell_type": "code",
   "execution_count": null,
   "metadata": {
    "collapsed": false
   },
   "outputs": [],
   "source": [
    "abs(\"Hello\") # try this"
   ]
  },
  {
   "cell_type": "code",
   "execution_count": null,
   "metadata": {
    "collapsed": false
   },
   "outputs": [],
   "source": [
    "import Base.abs\n",
    "\n",
    "# Extend abs() here:\n",
    "\"\"\"\n",
    "Tell Julia to add a method to the function `abs`\n",
    "that handles ASCII strings.\n",
    "\"\"\"\n",
    "function abs(x::ASCIIString)\n",
    "    # what do you think the function that\n",
    "    # returns an uppercase string is called?\n",
    "    # apply it to x here:\n",
    "    x\n",
    "end"
   ]
  },
  {
   "cell_type": "code",
   "execution_count": null,
   "metadata": {
    "collapsed": false
   },
   "outputs": [],
   "source": [
    "abs(\"Hello\") # did it work?"
   ]
  },
  {
   "cell_type": "markdown",
   "metadata": {},
   "source": [
    ">**\\[Exercise\\]**: Normalize\n",
    "\n",
    "> 1. Write a function called `normalize()` that [normalizes][2] a vector `x` _in place_ (replacing it with a unit-norm vector having the same direction). The following code cell should get you started.\n",
    "\n",
    "> 2. Now test your function using the given code cell. What happens?\n",
    "\n",
    "> 3. Using Julia's type system, modify your function to \"fail gracefully.\"\n",
    "\n",
    "\n",
    "> Note: Julia has several \"modifying functions\" that alter their inputs without creating any copies. These all end with an exclamation mark. To scale an array `x` by some value `a` _in place_, use:\n",
    "\n",
    "> ```julia\n",
    "    scale!(x, a)\n",
    "    ```\n",
    "\n",
    "> [More information on functions in Julia][1]\n",
    "\n",
    "> _Don't be afraid to kill the kernel and start over._\n",
    "\n",
    "[1]: http://julia.readthedocs.org/en/latest/manual/functions/\n",
    "[2]: http://www.fundza.com/vectors/normalize/"
   ]
  },
  {
   "cell_type": "code",
   "execution_count": null,
   "metadata": {
    "collapsed": true
   },
   "outputs": [],
   "source": [
    "function normalize(x)\n",
    "    # Manipulate x here.\n",
    "    x\n",
    "end"
   ]
  },
  {
   "cell_type": "code",
   "execution_count": null,
   "metadata": {
    "collapsed": false
   },
   "outputs": [],
   "source": [
    "# test your function:\n",
    "x = [1.0 2.0 3.0]\n",
    "normalize(x)"
   ]
  },
  {
   "cell_type": "markdown",
   "metadata": {},
   "source": [
    "## Exercise solutions"
   ]
  },
  {
   "cell_type": "markdown",
   "metadata": {},
   "source": [
    "#### Extending a function"
   ]
  },
  {
   "cell_type": "code",
   "execution_count": null,
   "metadata": {
    "collapsed": false
   },
   "outputs": [],
   "source": [
    "# Extend Base.abs:\n",
    "import Base.abs\n",
    "function abs(x::ASCIIString)\n",
    "    uppercase(x)\n",
    "end"
   ]
  },
  {
   "cell_type": "markdown",
   "metadata": {},
   "source": [
    "#### Normalize"
   ]
  },
  {
   "cell_type": "code",
   "execution_count": null,
   "metadata": {
    "collapsed": false
   },
   "outputs": [],
   "source": [
    "function normalize(x::Array{Float64}; inplace=false)\n",
    "    if inplace\n",
    "        scale!(x, 1/sqrt(sum([i^2 for i in x])))\n",
    "    else\n",
    "        x /= sqrt(sum([i^2 for i in x]))\n",
    "    end\n",
    "end"
   ]
  },
  {
   "cell_type": "code",
   "execution_count": null,
   "metadata": {
    "collapsed": false
   },
   "outputs": [],
   "source": [
    "methods(normalize)"
   ]
  },
  {
   "cell_type": "code",
   "execution_count": null,
   "metadata": {
    "collapsed": false
   },
   "outputs": [],
   "source": [
    "x = [1,2,3]\n",
    "x[1] = 3.0;\n",
    "float(x)"
   ]
  },
  {
   "cell_type": "code",
   "execution_count": null,
   "metadata": {
    "collapsed": false
   },
   "outputs": [],
   "source": [
    "# illustrate benefit of in-place modification:\n",
    "x = ones(100000000);\n",
    "@time normalize(x, inplace=false);\n",
    "@time normalize(x, inplace=true);"
   ]
  },
  {
   "cell_type": "markdown",
   "metadata": {},
   "source": [
    "## Julia reference\n",
    "\n",
    "Try visiting the top few links first.\n",
    "\n",
    "|            Resource           |                                                Description                                                |\n",
    "|-------------------------------|-----------------------------------------------------------------------------------------------------------|\n",
    "| [Julia By Example][7]         | Nicely categorized series of code snippets                                                                |\n",
    "| [Learn Julia in Y Minutes][2] | Broad, concise overview of Julia commands                                                                 |\n",
    "| [Matrix Cheatsheet][3]        | Translation between MATLAB/Octave, Python/NumPy, R, and Julia                                             |\n",
    "| [Julia community page][8]     | Links to mailing lists, various projects, and local Julia communities                                     |\n",
    "| [Julia Docs][1]               | Official documentation for the Julia Language                                                             |\n",
    "| [JuliaCon][5]                 | More than 20 talks on a broad range of subjects, many with links to slides and other supporting materials |\n",
    "| [Julia Bloggers][6]           | Blog aggregator that gathers Julia-related blog posts from several writers                                |\n",
    "\n",
    "\n",
    "[1]: http://docs.julialang.org/en/release-0.3/\n",
    "[2]: http://learnxinyminutes.com/docs/julia/\n",
    "[3]: http://sebastianraschka.com/Articles/2014_matrix_cheatsheet_table.html\n",
    "[5]: http://juliacon.org/\n",
    "[6]: http://www.juliabloggers.com/\n",
    "[7]: http://www.scolvin.com/juliabyexample/\n",
    "[8]: http://julialang.org/community/\n",
    "[4]: http://julia.readthedocs.org/en/latest/stdlib/base/"
   ]
  },
  {
   "cell_type": "markdown",
   "metadata": {},
   "source": [
    "___\n",
    "## What we've covered so far\n",
    "We started becoming familiar with the IJulia notebook, a free and powerful tool that marries the display capabilities of modern browsers with the reliability of local code execution. Next, we considered Julia: how to find help, how to plot, and how to approach Julia from MATLAB and Python backgrounds. Finally, we discussed Julia's types and how they are used."
   ]
  }
 ],
 "metadata": {
  "kernelspec": {
   "display_name": "Julia 0.4.0-rc2",
   "language": "julia",
   "name": "julia-0.4"
  },
  "language_info": {
   "file_extension": ".jl",
   "mimetype": "application/julia",
   "name": "julia",
   "version": "0.4.0"
  }
 },
 "nbformat": 4,
 "nbformat_minor": 0
}
