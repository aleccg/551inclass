{
 "cells": [
  {
   "cell_type": "markdown",
   "metadata": {},
   "source": [
    "## EECS 453/551\n",
    "# Video background subtraction using SVD\n",
    "\n",
    "In this exercise we will discover how the SVD can magically estimate the background in a video even when there is a lot of noise and missing data.\n",
    "___"
   ]
  },
  {
   "cell_type": "markdown",
   "metadata": {},
   "source": [
    "## Before we begin\n",
    "\n",
    "Run the following code cell by clicking it and either\n",
    "\n",
    "* choosing Cell -> Run in the toolbar\n",
    "* Pressing Ctrl+Enter\n",
    "\n",
    "This will install and load the Julia packages needed for today's demo."
   ]
  },
  {
   "cell_type": "code",
   "execution_count": null,
   "metadata": {
    "collapsed": false
   },
   "outputs": [],
   "source": [
    "# install required packages if not already present:\n",
    "Pkg.add(\"MAT\")      # load .mat files\n",
    "Pkg.add(\"PyPlot\")   # plotting tool\n",
    "Pkg.add(\"Interact\") # interact with plots\n",
    "\n",
    "# load required packages:\n",
    "using MAT, Interact, PyPlot\n",
    "\n",
    "# set graphics options:\n",
    "PyPlot.svg(true) # not your grandma's raster graphics\n",
    "set_cmap(\"gray\") # we want grayscale video, not heatmap\n",
    "\n",
    "filename = \"lobby.mat\"\n",
    "# filename = \"xylophone.mat\""
   ]
  },
  {
   "cell_type": "markdown",
   "metadata": {},
   "source": [
    "You may wish to take a few minutes to familiarize yourself with the notebook interface. Choose Help -> User Interface Tour for a brief introduction.\n",
    "\n",
    "In Julia, you can type ? followed by any object (variable, function, module) to get its description. Try typing `?MAT` into a new code cell and running it."
   ]
  },
  {
   "cell_type": "markdown",
   "metadata": {},
   "source": [
    "## Objective\n",
    "\n",
    "The objective of this exercise is to take as an input the video you have just seen and return as an output the background (i.e. without the people moving for the lobby video)."
   ]
  },
  {
   "cell_type": "markdown",
   "metadata": {},
   "source": [
    "### Task 1\n",
    "\n",
    "Find in the function below the portion where the variable `backgroundVec` is computed. Note how the SVD is used to compute it. Examine how the `residualVec` variable is computed and note that\n",
    "\n",
    "    footageVec = backgroundVec + residualVec\n",
    "\n",
    "Hence if we successfully are able to estimate the background, `residualVec` should contain:\n",
    "\n",
    "1. People moving around\n",
    "2. Nothing (empty)\n",
    "\n",
    "**Do you expect 1. or 2. to be true? Why?**"
   ]
  },
  {
   "cell_type": "code",
   "execution_count": null,
   "metadata": {
    "collapsed": false
   },
   "outputs": [],
   "source": [
    "\"\"\"\n",
    "    process(footage) -> background,residual\n",
    "Use SVD to separate input footage into background (static objects)\n",
    "and residual (fleeting objects).\n",
    "\"\"\"\n",
    "function process(footage)\n",
    "    \n",
    "    (m,n,numFrames) = size(footage)\n",
    "    \n",
    "    # Each movie frame is a 128x160 array.\n",
    "    # Reshape each frame into a single column vector\n",
    "    # to ease manipulation:\n",
    "    footageVec = reshape(footage,m*n,numFrames)\n",
    "    \n",
    "    ###################################\n",
    "    # Process using SVD\n",
    "    r = 1 # rank of \"background\" is 1\n",
    "\n",
    "    # U,S,V will contain first r components of SVD:\n",
    "    (U,S,V) = svds(footageVec,nsv=r)\n",
    "    \n",
    "    # take first r components as background\n",
    "    backgroundVec = (U*diagm(S))*V'\n",
    "    \n",
    "    # calculate residual\n",
    "    residualVec = footageVec - backgroundVec    \n",
    "    ###################################\n",
    "\n",
    "    # reshape background and residual into footage dimensions\n",
    "    background = reshape(backgroundVec,size(footage))\n",
    "    residual = reshape(residualVec,size(footage))\n",
    "    \n",
    "    return background,residual\n",
    "end"
   ]
  },
  {
   "cell_type": "markdown",
   "metadata": {},
   "source": [
    "### Task 2\n",
    "\n",
    "Run the following code cell. You should see a slider above a plot with two subplots. On the left is the original footage; on the right is the background as estimated by SVD.\n",
    "\n",
    "**Is it working?**"
   ]
  },
  {
   "cell_type": "code",
   "execution_count": null,
   "metadata": {
    "collapsed": false
   },
   "outputs": [],
   "source": [
    "### load 128x160x650 array containing video data:\n",
    "footage = matread(filename)[\"MovMat\"]\n",
    "m,n,numFrames = size(footage)\n",
    "\n",
    "# perform SVD-based background subtraction:\n",
    "background,residual = process(footage)\n",
    "\n",
    "# display results:\n",
    "fig = figure(figsize=[10;6])\n",
    "@manipulate for frameNumber in 1:numFrames; withfig(fig) do     \n",
    "        \n",
    "        # footage:\n",
    "        subplot(1,2,1)\n",
    "        imshow(footage[:,:,frameNumber])\n",
    "        axis(\"off\")\n",
    "        title(\"Footage\")\n",
    "        \n",
    "        # background:\n",
    "        subplot(1,2,2)\n",
    "        imshow(background[:,:,frameNumber])\n",
    "        axis(\"off\")\n",
    "        title(\"Background (SVD processing)\")\n",
    "    end\n",
    "end"
   ]
  },
  {
   "cell_type": "markdown",
   "metadata": {},
   "source": [
    "### Task 3: adding noise\n",
    "\n",
    "The movie you just processed using SVD was relatively noise-free. Let us start adding noise and removing entries and see how well SVD does.\n",
    "\n",
    "Study the function `addnoise()` in the following cell. **What is the code doing mathematically?** Now **run the cell** to add the function to your workspace.\n",
    "\n",
    "Enter a value of 0.1 for $ \\sigma $ in the next cell down, then run it.\n",
    "\n",
    "**Do you see the movie get noisier? Is the SVD able to extract the background?**\n",
    "\n",
    "* Now repeat for $ \\sigma = 0.5 $, $ \\sigma = 1 $ and $ \\sigma = 2 $. **How does the SVD do?**"
   ]
  },
  {
   "cell_type": "code",
   "execution_count": null,
   "metadata": {
    "collapsed": false
   },
   "outputs": [],
   "source": [
    "\"\"\"\n",
    "Add noise to footage.\n",
    "\n",
    "σ is noise standard deviation.\n",
    "\n",
    "(type symbol with \"\\sigma<TAB>\")\n",
    "\"\"\"\n",
    "function addnoise(footage,σ)\n",
    "    # Interpret this mathematically!\n",
    "    footage = (footage + σ*rand(size(footage)))\n",
    "    return footage\n",
    "end   "
   ]
  },
  {
   "cell_type": "code",
   "execution_count": null,
   "metadata": {
    "collapsed": false
   },
   "outputs": [],
   "source": [
    "### load 128x160x650 array containing video data:\n",
    "footage = matread(filename)[\"MovMat\"]\n",
    "m,n,numFrames = size(footage)\n",
    "\n",
    "############################\n",
    "σ =  # Enter your value here\n",
    "\n",
    "# Add noise:\n",
    "footage = addnoise(footage,σ)\n",
    "############################\n",
    "\n",
    "# perform background subtraction on noisy footage:\n",
    "background,residual = process(footage)\n",
    "\n",
    "# display results:\n",
    "fig = figure(figsize=[10;6])\n",
    "@manipulate for frameNumber in 1:numFrames; withfig(fig) do \n",
    "        \n",
    "        # footage:\n",
    "        subplot(1,2,1)\n",
    "        imshow(footage[:,:,frameNumber])\n",
    "        axis(\"off\")\n",
    "        title(\"Footage\")\n",
    "        \n",
    "        # background:\n",
    "        subplot(1,2,2)\n",
    "        imshow(background[:,:,frameNumber])\n",
    "        axis(\"off\")\n",
    "        title(\"Background (SVD processing)\")\n",
    "    end\n",
    "end"
   ]
  },
  {
   "cell_type": "markdown",
   "metadata": {},
   "source": [
    "### Task 4: removing entries\n",
    "\n",
    "Now we will corrupt the data by randomly removing a portion of the entries.\n",
    "\n",
    "Study `corrupt()` in the cell below. **What is it doing to the input footage?** Now **run the cell** to add `corrupt()` to your workspace.\n",
    "\n",
    "Enter a value of 0.9 for `p` in the next cell down, then run it.\n",
    "\n",
    "**Does the movie have missing entries? Is the SVD successfully separating the background?**\n",
    "\n",
    "Now repeat for `p = 0.75`, `p = 0.5`, `p = 0.25`, `p = 0.1`. **Do you see the movie have more blank entries? Is the SVD still working?**"
   ]
  },
  {
   "cell_type": "code",
   "execution_count": null,
   "metadata": {
    "collapsed": false
   },
   "outputs": [],
   "source": [
    "\"\"\"\n",
    "Corrupt footage by removing entries.\n",
    "\n",
    "Each entry is removed with probability `p`.\n",
    "\"\"\"\n",
    "function corrupt(footage,p)\n",
    "    # Interpret this mathematically!\n",
    "    # Type ?rand if you aren't sure what rand() does.\n",
    "    mask = rand(size(footage)) .< p\n",
    "\n",
    "    # Mask some entries\n",
    "    footage = footage.*mask\n",
    "    return footage\n",
    "end"
   ]
  },
  {
   "cell_type": "code",
   "execution_count": null,
   "metadata": {
    "collapsed": false
   },
   "outputs": [],
   "source": [
    "### load 128x160x650 array containing video data:\n",
    "footage = matread(filename)[\"MovMat\"]\n",
    "m,n,numFrames = size(footage)\n",
    "\n",
    "############################\n",
    "σ = 0.1\n",
    "p =  # Enter your value here\n",
    "\n",
    "# Add noise:\n",
    "footage = addnoise(footage,σ)\n",
    "\n",
    "# Delete entries:\n",
    "footage = corrupt(footage,p)\n",
    "############################\n",
    "\n",
    "# perform background subtraction on noisy footage:\n",
    "background,residual = process(footage)\n",
    "\n",
    "# display results:\n",
    "fig = figure(figsize=[10;6])\n",
    "@manipulate for frameNumber in 1:numFrames; withfig(fig) do \n",
    "        \n",
    "        # footage:\n",
    "        subplot(1,2,1)\n",
    "        imshow(footage[:,:,frameNumber])\n",
    "        axis(\"off\")\n",
    "        title(\"Footage\")\n",
    "        \n",
    "        # background:\n",
    "        subplot(1,2,2)\n",
    "        imshow(background[:,:,frameNumber])\n",
    "        axis(\"off\")\n",
    "        title(\"Background (SVD processing)\")\n",
    "    end\n",
    "end"
   ]
  },
  {
   "cell_type": "markdown",
   "metadata": {},
   "source": [
    "### Task 5\n",
    "\n",
    "Return to the very first code cell, uncomment the line\n",
    "\n",
    "```julia\n",
    "filename = \"xylophone.mat\",\n",
    "```\n",
    "\n",
    "and run the cell again.\n",
    "\n",
    "Now repeat Tasks 3 and 4. **Does the SVD still work?**"
   ]
  }
 ],
 "metadata": {
  "kernelspec": {
   "display_name": "Julia 0.4.0-dev",
   "language": "julia",
   "name": "julia-0.4"
  },
  "language_info": {
   "file_extension": ".jl",
   "mimetype": "application/julia",
   "name": "julia",
   "version": "0.4.0"
  }
 },
 "nbformat": 4,
 "nbformat_minor": 0
}
