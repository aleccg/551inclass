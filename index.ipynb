{
 "cells": [
  {
   "cell_type": "markdown",
   "metadata": {},
   "source": [
    "# EECS 551 IJulia Notebooks\n",
    "\n",
    "This repository contains EECS 551 in-class demo material in the form of IJulia notebooks.\n",
    "\n",
    "## [Introduction](./Intro to Julia and IJulia notebooks.ipynb)\n",
    "If you're new to the notebook environment and Julia, go through this notebook to familiarize yourself:\n",
    "\n",
    "\n",
    "## [Background subtraction](./1-background-subtraction/background-subtract-task-sheet.ipynb)\n",
    "Witness the magic of SVD as you decompose video footage into moving and static parts."
   ]
  }
 ],
 "metadata": {
  "kernelspec": {
   "display_name": "Julia 0.4.0-rc2",
   "language": "julia",
   "name": "julia-0.4"
  },
  "language_info": {
   "file_extension": ".jl",
   "mimetype": "application/julia",
   "name": "julia",
   "version": "0.4.0"
  }
 },
 "nbformat": 4,
 "nbformat_minor": 0
}
